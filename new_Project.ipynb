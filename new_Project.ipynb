{
  "nbformat": 4,
  "nbformat_minor": 0,
  "metadata": {
    "colab": {
      "provenance": [],
      "toc_visible": true,
      "authorship_tag": "ABX9TyOYTqetSuQE/7NZyz3deAuC",
      "include_colab_link": true
    },
    "kernelspec": {
      "name": "python3",
      "display_name": "Python 3"
    },
    "language_info": {
      "name": "python"
    }
  },
  "cells": [
    {
      "cell_type": "markdown",
      "metadata": {
        "id": "view-in-github",
        "colab_type": "text"
      },
      "source": [
        "<a href=\"https://colab.research.google.com/github/Anuradha-Athukorala/Eating-Disorder-Dataset---01/blob/main/new_Project.ipynb\" target=\"_parent\"><img src=\"https://colab.research.google.com/assets/colab-badge.svg\" alt=\"Open In Colab\"/></a>"
      ]
    },
    {
      "cell_type": "code",
      "execution_count": null,
      "metadata": {
        "id": "HCKS52Tn_pRi"
      },
      "outputs": [],
      "source": [
        "import pandas as pd\n",
        "import sklearn\n",
        "import re\n",
        "import nltk\n",
        "from sklearn.model_selection import train_test_split\n",
        "from sklearn.feature_extraction.text import TfidfVectorizer\n",
        "from sklearn.feature_extraction.text import CountVectorizer\n",
        "from sklearn.model_selection import KFold\n",
        "from sklearn.svm import SVC\n",
        "from sklearn.model_selection import GridSearchCV\n",
        "from sklearn.metrics import classification_report\n",
        "from nltk.corpus import stopwords\n",
        "from nltk.tokenize import word_tokenize\n",
        "import matplotlib.pyplot as plt"
      ]
    },
    {
      "cell_type": "markdown",
      "source": [
        "re = pattern matching and text manipulation.\n",
        "\n",
        "mat = creating visualizations\n",
        "\n"
      ],
      "metadata": {
        "id": "sMPtoVWJFYMV"
      }
    },
    {
      "cell_type": "code",
      "source": [
        "# pip install scikit-learn==1.2.1"
      ],
      "metadata": {
        "id": "ZWjAuZAi_4zS"
      },
      "execution_count": null,
      "outputs": []
    },
    {
      "cell_type": "markdown",
      "source": [
        "library version is a way to control and manage the dependencies of the project"
      ],
      "metadata": {
        "id": "nDBA-cc1GUYL"
      }
    },
    {
      "cell_type": "code",
      "source": [
        "df = pd.read_excel('Dataset new.xlsx')"
      ],
      "metadata": {
        "id": "OohuEeCn_8Sn"
      },
      "execution_count": null,
      "outputs": []
    },
    {
      "cell_type": "code",
      "source": [
        "df.head(5)"
      ],
      "metadata": {
        "colab": {
          "base_uri": "https://localhost:8080/",
          "height": 206
        },
        "id": "-lNrL6FrAT5n",
        "outputId": "346fb365-b8a8-4ee5-b10e-af5ded9d717f"
      },
      "execution_count": null,
      "outputs": [
        {
          "output_type": "execute_result",
          "data": {
            "text/plain": [
              "                                         Tweet Body   \\\n",
              "0  sorry i didn’t respond for 2 weeks i was focus...   \n",
              "1  only i can have an eating disorder, everyone e...   \n",
              "2  having an eating disorder isn’t an excuse to b...   \n",
              "3  everybody been telling me i’m getting to be an...   \n",
              "4  I am very thin (people think I am anorexic). W...   \n",
              "\n",
              "                                                 URL Sentiment   \n",
              "0  https://twitter.com/flwufflez/status/170656191...    Neutral  \n",
              "1  https://twitter.com/yurihaomoon/status/1706560...   Negative  \n",
              "2  https://twitter.com/swiftcals/status/170670935...   Negative  \n",
              "3  https://twitter.com/c0lormenii/status/17067096...    Neutral  \n",
              "4  \\nhttps://twitter.com/greengecko119/status/131...   Negative  "
            ],
            "text/html": [
              "\n",
              "  <div id=\"df-10e52c48-6682-435e-ac3a-7d6226d6e952\" class=\"colab-df-container\">\n",
              "    <div>\n",
              "<style scoped>\n",
              "    .dataframe tbody tr th:only-of-type {\n",
              "        vertical-align: middle;\n",
              "    }\n",
              "\n",
              "    .dataframe tbody tr th {\n",
              "        vertical-align: top;\n",
              "    }\n",
              "\n",
              "    .dataframe thead th {\n",
              "        text-align: right;\n",
              "    }\n",
              "</style>\n",
              "<table border=\"1\" class=\"dataframe\">\n",
              "  <thead>\n",
              "    <tr style=\"text-align: right;\">\n",
              "      <th></th>\n",
              "      <th>Tweet Body</th>\n",
              "      <th>URL</th>\n",
              "      <th>Sentiment</th>\n",
              "    </tr>\n",
              "  </thead>\n",
              "  <tbody>\n",
              "    <tr>\n",
              "      <th>0</th>\n",
              "      <td>sorry i didn’t respond for 2 weeks i was focus...</td>\n",
              "      <td>https://twitter.com/flwufflez/status/170656191...</td>\n",
              "      <td>Neutral</td>\n",
              "    </tr>\n",
              "    <tr>\n",
              "      <th>1</th>\n",
              "      <td>only i can have an eating disorder, everyone e...</td>\n",
              "      <td>https://twitter.com/yurihaomoon/status/1706560...</td>\n",
              "      <td>Negative</td>\n",
              "    </tr>\n",
              "    <tr>\n",
              "      <th>2</th>\n",
              "      <td>having an eating disorder isn’t an excuse to b...</td>\n",
              "      <td>https://twitter.com/swiftcals/status/170670935...</td>\n",
              "      <td>Negative</td>\n",
              "    </tr>\n",
              "    <tr>\n",
              "      <th>3</th>\n",
              "      <td>everybody been telling me i’m getting to be an...</td>\n",
              "      <td>https://twitter.com/c0lormenii/status/17067096...</td>\n",
              "      <td>Neutral</td>\n",
              "    </tr>\n",
              "    <tr>\n",
              "      <th>4</th>\n",
              "      <td>I am very thin (people think I am anorexic). W...</td>\n",
              "      <td>\\nhttps://twitter.com/greengecko119/status/131...</td>\n",
              "      <td>Negative</td>\n",
              "    </tr>\n",
              "  </tbody>\n",
              "</table>\n",
              "</div>\n",
              "    <div class=\"colab-df-buttons\">\n",
              "\n",
              "  <div class=\"colab-df-container\">\n",
              "    <button class=\"colab-df-convert\" onclick=\"convertToInteractive('df-10e52c48-6682-435e-ac3a-7d6226d6e952')\"\n",
              "            title=\"Convert this dataframe to an interactive table.\"\n",
              "            style=\"display:none;\">\n",
              "\n",
              "  <svg xmlns=\"http://www.w3.org/2000/svg\" height=\"24px\" viewBox=\"0 -960 960 960\">\n",
              "    <path d=\"M120-120v-720h720v720H120Zm60-500h600v-160H180v160Zm220 220h160v-160H400v160Zm0 220h160v-160H400v160ZM180-400h160v-160H180v160Zm440 0h160v-160H620v160ZM180-180h160v-160H180v160Zm440 0h160v-160H620v160Z\"/>\n",
              "  </svg>\n",
              "    </button>\n",
              "\n",
              "  <style>\n",
              "    .colab-df-container {\n",
              "      display:flex;\n",
              "      gap: 12px;\n",
              "    }\n",
              "\n",
              "    .colab-df-convert {\n",
              "      background-color: #E8F0FE;\n",
              "      border: none;\n",
              "      border-radius: 50%;\n",
              "      cursor: pointer;\n",
              "      display: none;\n",
              "      fill: #1967D2;\n",
              "      height: 32px;\n",
              "      padding: 0 0 0 0;\n",
              "      width: 32px;\n",
              "    }\n",
              "\n",
              "    .colab-df-convert:hover {\n",
              "      background-color: #E2EBFA;\n",
              "      box-shadow: 0px 1px 2px rgba(60, 64, 67, 0.3), 0px 1px 3px 1px rgba(60, 64, 67, 0.15);\n",
              "      fill: #174EA6;\n",
              "    }\n",
              "\n",
              "    .colab-df-buttons div {\n",
              "      margin-bottom: 4px;\n",
              "    }\n",
              "\n",
              "    [theme=dark] .colab-df-convert {\n",
              "      background-color: #3B4455;\n",
              "      fill: #D2E3FC;\n",
              "    }\n",
              "\n",
              "    [theme=dark] .colab-df-convert:hover {\n",
              "      background-color: #434B5C;\n",
              "      box-shadow: 0px 1px 3px 1px rgba(0, 0, 0, 0.15);\n",
              "      filter: drop-shadow(0px 1px 2px rgba(0, 0, 0, 0.3));\n",
              "      fill: #FFFFFF;\n",
              "    }\n",
              "  </style>\n",
              "\n",
              "    <script>\n",
              "      const buttonEl =\n",
              "        document.querySelector('#df-10e52c48-6682-435e-ac3a-7d6226d6e952 button.colab-df-convert');\n",
              "      buttonEl.style.display =\n",
              "        google.colab.kernel.accessAllowed ? 'block' : 'none';\n",
              "\n",
              "      async function convertToInteractive(key) {\n",
              "        const element = document.querySelector('#df-10e52c48-6682-435e-ac3a-7d6226d6e952');\n",
              "        const dataTable =\n",
              "          await google.colab.kernel.invokeFunction('convertToInteractive',\n",
              "                                                    [key], {});\n",
              "        if (!dataTable) return;\n",
              "\n",
              "        const docLinkHtml = 'Like what you see? Visit the ' +\n",
              "          '<a target=\"_blank\" href=https://colab.research.google.com/notebooks/data_table.ipynb>data table notebook</a>'\n",
              "          + ' to learn more about interactive tables.';\n",
              "        element.innerHTML = '';\n",
              "        dataTable['output_type'] = 'display_data';\n",
              "        await google.colab.output.renderOutput(dataTable, element);\n",
              "        const docLink = document.createElement('div');\n",
              "        docLink.innerHTML = docLinkHtml;\n",
              "        element.appendChild(docLink);\n",
              "      }\n",
              "    </script>\n",
              "  </div>\n",
              "\n",
              "\n",
              "<div id=\"df-560b687b-bc1e-4517-8d34-2321c8dad901\">\n",
              "  <button class=\"colab-df-quickchart\" onclick=\"quickchart('df-560b687b-bc1e-4517-8d34-2321c8dad901')\"\n",
              "            title=\"Suggest charts.\"\n",
              "            style=\"display:none;\">\n",
              "\n",
              "<svg xmlns=\"http://www.w3.org/2000/svg\" height=\"24px\"viewBox=\"0 0 24 24\"\n",
              "     width=\"24px\">\n",
              "    <g>\n",
              "        <path d=\"M19 3H5c-1.1 0-2 .9-2 2v14c0 1.1.9 2 2 2h14c1.1 0 2-.9 2-2V5c0-1.1-.9-2-2-2zM9 17H7v-7h2v7zm4 0h-2V7h2v10zm4 0h-2v-4h2v4z\"/>\n",
              "    </g>\n",
              "</svg>\n",
              "  </button>\n",
              "\n",
              "<style>\n",
              "  .colab-df-quickchart {\n",
              "      --bg-color: #E8F0FE;\n",
              "      --fill-color: #1967D2;\n",
              "      --hover-bg-color: #E2EBFA;\n",
              "      --hover-fill-color: #174EA6;\n",
              "      --disabled-fill-color: #AAA;\n",
              "      --disabled-bg-color: #DDD;\n",
              "  }\n",
              "\n",
              "  [theme=dark] .colab-df-quickchart {\n",
              "      --bg-color: #3B4455;\n",
              "      --fill-color: #D2E3FC;\n",
              "      --hover-bg-color: #434B5C;\n",
              "      --hover-fill-color: #FFFFFF;\n",
              "      --disabled-bg-color: #3B4455;\n",
              "      --disabled-fill-color: #666;\n",
              "  }\n",
              "\n",
              "  .colab-df-quickchart {\n",
              "    background-color: var(--bg-color);\n",
              "    border: none;\n",
              "    border-radius: 50%;\n",
              "    cursor: pointer;\n",
              "    display: none;\n",
              "    fill: var(--fill-color);\n",
              "    height: 32px;\n",
              "    padding: 0;\n",
              "    width: 32px;\n",
              "  }\n",
              "\n",
              "  .colab-df-quickchart:hover {\n",
              "    background-color: var(--hover-bg-color);\n",
              "    box-shadow: 0 1px 2px rgba(60, 64, 67, 0.3), 0 1px 3px 1px rgba(60, 64, 67, 0.15);\n",
              "    fill: var(--button-hover-fill-color);\n",
              "  }\n",
              "\n",
              "  .colab-df-quickchart-complete:disabled,\n",
              "  .colab-df-quickchart-complete:disabled:hover {\n",
              "    background-color: var(--disabled-bg-color);\n",
              "    fill: var(--disabled-fill-color);\n",
              "    box-shadow: none;\n",
              "  }\n",
              "\n",
              "  .colab-df-spinner {\n",
              "    border: 2px solid var(--fill-color);\n",
              "    border-color: transparent;\n",
              "    border-bottom-color: var(--fill-color);\n",
              "    animation:\n",
              "      spin 1s steps(1) infinite;\n",
              "  }\n",
              "\n",
              "  @keyframes spin {\n",
              "    0% {\n",
              "      border-color: transparent;\n",
              "      border-bottom-color: var(--fill-color);\n",
              "      border-left-color: var(--fill-color);\n",
              "    }\n",
              "    20% {\n",
              "      border-color: transparent;\n",
              "      border-left-color: var(--fill-color);\n",
              "      border-top-color: var(--fill-color);\n",
              "    }\n",
              "    30% {\n",
              "      border-color: transparent;\n",
              "      border-left-color: var(--fill-color);\n",
              "      border-top-color: var(--fill-color);\n",
              "      border-right-color: var(--fill-color);\n",
              "    }\n",
              "    40% {\n",
              "      border-color: transparent;\n",
              "      border-right-color: var(--fill-color);\n",
              "      border-top-color: var(--fill-color);\n",
              "    }\n",
              "    60% {\n",
              "      border-color: transparent;\n",
              "      border-right-color: var(--fill-color);\n",
              "    }\n",
              "    80% {\n",
              "      border-color: transparent;\n",
              "      border-right-color: var(--fill-color);\n",
              "      border-bottom-color: var(--fill-color);\n",
              "    }\n",
              "    90% {\n",
              "      border-color: transparent;\n",
              "      border-bottom-color: var(--fill-color);\n",
              "    }\n",
              "  }\n",
              "</style>\n",
              "\n",
              "  <script>\n",
              "    async function quickchart(key) {\n",
              "      const quickchartButtonEl =\n",
              "        document.querySelector('#' + key + ' button');\n",
              "      quickchartButtonEl.disabled = true;  // To prevent multiple clicks.\n",
              "      quickchartButtonEl.classList.add('colab-df-spinner');\n",
              "      try {\n",
              "        const charts = await google.colab.kernel.invokeFunction(\n",
              "            'suggestCharts', [key], {});\n",
              "      } catch (error) {\n",
              "        console.error('Error during call to suggestCharts:', error);\n",
              "      }\n",
              "      quickchartButtonEl.classList.remove('colab-df-spinner');\n",
              "      quickchartButtonEl.classList.add('colab-df-quickchart-complete');\n",
              "    }\n",
              "    (() => {\n",
              "      let quickchartButtonEl =\n",
              "        document.querySelector('#df-560b687b-bc1e-4517-8d34-2321c8dad901 button');\n",
              "      quickchartButtonEl.style.display =\n",
              "        google.colab.kernel.accessAllowed ? 'block' : 'none';\n",
              "    })();\n",
              "  </script>\n",
              "</div>\n",
              "    </div>\n",
              "  </div>\n"
            ]
          },
          "metadata": {},
          "execution_count": 6
        }
      ]
    },
    {
      "cell_type": "code",
      "source": [
        "df.dtypes"
      ],
      "metadata": {
        "colab": {
          "base_uri": "https://localhost:8080/"
        },
        "id": "wRV78DekAbbp",
        "outputId": "4693ac3f-eb44-45d7-d834-cc324f456ac6"
      },
      "execution_count": null,
      "outputs": [
        {
          "output_type": "execute_result",
          "data": {
            "text/plain": [
              "Tweet Body     object\n",
              "URL            object\n",
              "Sentiment      object\n",
              "dtype: object"
            ]
          },
          "metadata": {},
          "execution_count": 7
        }
      ]
    },
    {
      "cell_type": "code",
      "source": [
        "df.columns"
      ],
      "metadata": {
        "colab": {
          "base_uri": "https://localhost:8080/"
        },
        "id": "JMIBaTvAAgD2",
        "outputId": "8df891e8-131c-49b4-caca-95c9f2544fec"
      },
      "execution_count": null,
      "outputs": [
        {
          "output_type": "execute_result",
          "data": {
            "text/plain": [
              "Index(['Tweet Body ', 'URL', 'Sentiment '], dtype='object')"
            ]
          },
          "metadata": {},
          "execution_count": 8
        }
      ]
    },
    {
      "cell_type": "code",
      "source": [
        "df = df.drop(['URL'], axis = 1)"
      ],
      "metadata": {
        "id": "4ZJHmc0oAoDl"
      },
      "execution_count": null,
      "outputs": []
    },
    {
      "cell_type": "code",
      "source": [
        "df.head(10)"
      ],
      "metadata": {
        "colab": {
          "base_uri": "https://localhost:8080/",
          "height": 363
        },
        "id": "fqnXKm_HAp8G",
        "outputId": "ab25ed85-ff02-493b-9993-42257d9eeb27"
      },
      "execution_count": null,
      "outputs": [
        {
          "output_type": "execute_result",
          "data": {
            "text/plain": [
              "                                         Tweet Body  Sentiment \n",
              "0  sorry i didn’t respond for 2 weeks i was focus...    Neutral\n",
              "1  only i can have an eating disorder, everyone e...   Negative\n",
              "2  having an eating disorder isn’t an excuse to b...   Negative\n",
              "3  everybody been telling me i’m getting to be an...    Neutral\n",
              "4  I am very thin (people think I am anorexic). W...   Negative\n",
              "5  When did body positivity turn into making fun ...   Negative\n",
              "6  calling myself Anorexic still feels like such ...    Neutral\n",
              "7  before i was disordered i bought a dozen of th...    Neutral\n",
              "8  “Fuck this eating disorder, I can eat whatever...    Neutral\n",
              "9  i still had a eating disorder here but it was ...    Neutral"
            ],
            "text/html": [
              "\n",
              "  <div id=\"df-e7e3a231-d3f2-47d9-bd72-3ff60d038670\" class=\"colab-df-container\">\n",
              "    <div>\n",
              "<style scoped>\n",
              "    .dataframe tbody tr th:only-of-type {\n",
              "        vertical-align: middle;\n",
              "    }\n",
              "\n",
              "    .dataframe tbody tr th {\n",
              "        vertical-align: top;\n",
              "    }\n",
              "\n",
              "    .dataframe thead th {\n",
              "        text-align: right;\n",
              "    }\n",
              "</style>\n",
              "<table border=\"1\" class=\"dataframe\">\n",
              "  <thead>\n",
              "    <tr style=\"text-align: right;\">\n",
              "      <th></th>\n",
              "      <th>Tweet Body</th>\n",
              "      <th>Sentiment</th>\n",
              "    </tr>\n",
              "  </thead>\n",
              "  <tbody>\n",
              "    <tr>\n",
              "      <th>0</th>\n",
              "      <td>sorry i didn’t respond for 2 weeks i was focus...</td>\n",
              "      <td>Neutral</td>\n",
              "    </tr>\n",
              "    <tr>\n",
              "      <th>1</th>\n",
              "      <td>only i can have an eating disorder, everyone e...</td>\n",
              "      <td>Negative</td>\n",
              "    </tr>\n",
              "    <tr>\n",
              "      <th>2</th>\n",
              "      <td>having an eating disorder isn’t an excuse to b...</td>\n",
              "      <td>Negative</td>\n",
              "    </tr>\n",
              "    <tr>\n",
              "      <th>3</th>\n",
              "      <td>everybody been telling me i’m getting to be an...</td>\n",
              "      <td>Neutral</td>\n",
              "    </tr>\n",
              "    <tr>\n",
              "      <th>4</th>\n",
              "      <td>I am very thin (people think I am anorexic). W...</td>\n",
              "      <td>Negative</td>\n",
              "    </tr>\n",
              "    <tr>\n",
              "      <th>5</th>\n",
              "      <td>When did body positivity turn into making fun ...</td>\n",
              "      <td>Negative</td>\n",
              "    </tr>\n",
              "    <tr>\n",
              "      <th>6</th>\n",
              "      <td>calling myself Anorexic still feels like such ...</td>\n",
              "      <td>Neutral</td>\n",
              "    </tr>\n",
              "    <tr>\n",
              "      <th>7</th>\n",
              "      <td>before i was disordered i bought a dozen of th...</td>\n",
              "      <td>Neutral</td>\n",
              "    </tr>\n",
              "    <tr>\n",
              "      <th>8</th>\n",
              "      <td>“Fuck this eating disorder, I can eat whatever...</td>\n",
              "      <td>Neutral</td>\n",
              "    </tr>\n",
              "    <tr>\n",
              "      <th>9</th>\n",
              "      <td>i still had a eating disorder here but it was ...</td>\n",
              "      <td>Neutral</td>\n",
              "    </tr>\n",
              "  </tbody>\n",
              "</table>\n",
              "</div>\n",
              "    <div class=\"colab-df-buttons\">\n",
              "\n",
              "  <div class=\"colab-df-container\">\n",
              "    <button class=\"colab-df-convert\" onclick=\"convertToInteractive('df-e7e3a231-d3f2-47d9-bd72-3ff60d038670')\"\n",
              "            title=\"Convert this dataframe to an interactive table.\"\n",
              "            style=\"display:none;\">\n",
              "\n",
              "  <svg xmlns=\"http://www.w3.org/2000/svg\" height=\"24px\" viewBox=\"0 -960 960 960\">\n",
              "    <path d=\"M120-120v-720h720v720H120Zm60-500h600v-160H180v160Zm220 220h160v-160H400v160Zm0 220h160v-160H400v160ZM180-400h160v-160H180v160Zm440 0h160v-160H620v160ZM180-180h160v-160H180v160Zm440 0h160v-160H620v160Z\"/>\n",
              "  </svg>\n",
              "    </button>\n",
              "\n",
              "  <style>\n",
              "    .colab-df-container {\n",
              "      display:flex;\n",
              "      gap: 12px;\n",
              "    }\n",
              "\n",
              "    .colab-df-convert {\n",
              "      background-color: #E8F0FE;\n",
              "      border: none;\n",
              "      border-radius: 50%;\n",
              "      cursor: pointer;\n",
              "      display: none;\n",
              "      fill: #1967D2;\n",
              "      height: 32px;\n",
              "      padding: 0 0 0 0;\n",
              "      width: 32px;\n",
              "    }\n",
              "\n",
              "    .colab-df-convert:hover {\n",
              "      background-color: #E2EBFA;\n",
              "      box-shadow: 0px 1px 2px rgba(60, 64, 67, 0.3), 0px 1px 3px 1px rgba(60, 64, 67, 0.15);\n",
              "      fill: #174EA6;\n",
              "    }\n",
              "\n",
              "    .colab-df-buttons div {\n",
              "      margin-bottom: 4px;\n",
              "    }\n",
              "\n",
              "    [theme=dark] .colab-df-convert {\n",
              "      background-color: #3B4455;\n",
              "      fill: #D2E3FC;\n",
              "    }\n",
              "\n",
              "    [theme=dark] .colab-df-convert:hover {\n",
              "      background-color: #434B5C;\n",
              "      box-shadow: 0px 1px 3px 1px rgba(0, 0, 0, 0.15);\n",
              "      filter: drop-shadow(0px 1px 2px rgba(0, 0, 0, 0.3));\n",
              "      fill: #FFFFFF;\n",
              "    }\n",
              "  </style>\n",
              "\n",
              "    <script>\n",
              "      const buttonEl =\n",
              "        document.querySelector('#df-e7e3a231-d3f2-47d9-bd72-3ff60d038670 button.colab-df-convert');\n",
              "      buttonEl.style.display =\n",
              "        google.colab.kernel.accessAllowed ? 'block' : 'none';\n",
              "\n",
              "      async function convertToInteractive(key) {\n",
              "        const element = document.querySelector('#df-e7e3a231-d3f2-47d9-bd72-3ff60d038670');\n",
              "        const dataTable =\n",
              "          await google.colab.kernel.invokeFunction('convertToInteractive',\n",
              "                                                    [key], {});\n",
              "        if (!dataTable) return;\n",
              "\n",
              "        const docLinkHtml = 'Like what you see? Visit the ' +\n",
              "          '<a target=\"_blank\" href=https://colab.research.google.com/notebooks/data_table.ipynb>data table notebook</a>'\n",
              "          + ' to learn more about interactive tables.';\n",
              "        element.innerHTML = '';\n",
              "        dataTable['output_type'] = 'display_data';\n",
              "        await google.colab.output.renderOutput(dataTable, element);\n",
              "        const docLink = document.createElement('div');\n",
              "        docLink.innerHTML = docLinkHtml;\n",
              "        element.appendChild(docLink);\n",
              "      }\n",
              "    </script>\n",
              "  </div>\n",
              "\n",
              "\n",
              "<div id=\"df-0a284150-9f5c-49c8-8111-e60b673c2f0c\">\n",
              "  <button class=\"colab-df-quickchart\" onclick=\"quickchart('df-0a284150-9f5c-49c8-8111-e60b673c2f0c')\"\n",
              "            title=\"Suggest charts.\"\n",
              "            style=\"display:none;\">\n",
              "\n",
              "<svg xmlns=\"http://www.w3.org/2000/svg\" height=\"24px\"viewBox=\"0 0 24 24\"\n",
              "     width=\"24px\">\n",
              "    <g>\n",
              "        <path d=\"M19 3H5c-1.1 0-2 .9-2 2v14c0 1.1.9 2 2 2h14c1.1 0 2-.9 2-2V5c0-1.1-.9-2-2-2zM9 17H7v-7h2v7zm4 0h-2V7h2v10zm4 0h-2v-4h2v4z\"/>\n",
              "    </g>\n",
              "</svg>\n",
              "  </button>\n",
              "\n",
              "<style>\n",
              "  .colab-df-quickchart {\n",
              "      --bg-color: #E8F0FE;\n",
              "      --fill-color: #1967D2;\n",
              "      --hover-bg-color: #E2EBFA;\n",
              "      --hover-fill-color: #174EA6;\n",
              "      --disabled-fill-color: #AAA;\n",
              "      --disabled-bg-color: #DDD;\n",
              "  }\n",
              "\n",
              "  [theme=dark] .colab-df-quickchart {\n",
              "      --bg-color: #3B4455;\n",
              "      --fill-color: #D2E3FC;\n",
              "      --hover-bg-color: #434B5C;\n",
              "      --hover-fill-color: #FFFFFF;\n",
              "      --disabled-bg-color: #3B4455;\n",
              "      --disabled-fill-color: #666;\n",
              "  }\n",
              "\n",
              "  .colab-df-quickchart {\n",
              "    background-color: var(--bg-color);\n",
              "    border: none;\n",
              "    border-radius: 50%;\n",
              "    cursor: pointer;\n",
              "    display: none;\n",
              "    fill: var(--fill-color);\n",
              "    height: 32px;\n",
              "    padding: 0;\n",
              "    width: 32px;\n",
              "  }\n",
              "\n",
              "  .colab-df-quickchart:hover {\n",
              "    background-color: var(--hover-bg-color);\n",
              "    box-shadow: 0 1px 2px rgba(60, 64, 67, 0.3), 0 1px 3px 1px rgba(60, 64, 67, 0.15);\n",
              "    fill: var(--button-hover-fill-color);\n",
              "  }\n",
              "\n",
              "  .colab-df-quickchart-complete:disabled,\n",
              "  .colab-df-quickchart-complete:disabled:hover {\n",
              "    background-color: var(--disabled-bg-color);\n",
              "    fill: var(--disabled-fill-color);\n",
              "    box-shadow: none;\n",
              "  }\n",
              "\n",
              "  .colab-df-spinner {\n",
              "    border: 2px solid var(--fill-color);\n",
              "    border-color: transparent;\n",
              "    border-bottom-color: var(--fill-color);\n",
              "    animation:\n",
              "      spin 1s steps(1) infinite;\n",
              "  }\n",
              "\n",
              "  @keyframes spin {\n",
              "    0% {\n",
              "      border-color: transparent;\n",
              "      border-bottom-color: var(--fill-color);\n",
              "      border-left-color: var(--fill-color);\n",
              "    }\n",
              "    20% {\n",
              "      border-color: transparent;\n",
              "      border-left-color: var(--fill-color);\n",
              "      border-top-color: var(--fill-color);\n",
              "    }\n",
              "    30% {\n",
              "      border-color: transparent;\n",
              "      border-left-color: var(--fill-color);\n",
              "      border-top-color: var(--fill-color);\n",
              "      border-right-color: var(--fill-color);\n",
              "    }\n",
              "    40% {\n",
              "      border-color: transparent;\n",
              "      border-right-color: var(--fill-color);\n",
              "      border-top-color: var(--fill-color);\n",
              "    }\n",
              "    60% {\n",
              "      border-color: transparent;\n",
              "      border-right-color: var(--fill-color);\n",
              "    }\n",
              "    80% {\n",
              "      border-color: transparent;\n",
              "      border-right-color: var(--fill-color);\n",
              "      border-bottom-color: var(--fill-color);\n",
              "    }\n",
              "    90% {\n",
              "      border-color: transparent;\n",
              "      border-bottom-color: var(--fill-color);\n",
              "    }\n",
              "  }\n",
              "</style>\n",
              "\n",
              "  <script>\n",
              "    async function quickchart(key) {\n",
              "      const quickchartButtonEl =\n",
              "        document.querySelector('#' + key + ' button');\n",
              "      quickchartButtonEl.disabled = true;  // To prevent multiple clicks.\n",
              "      quickchartButtonEl.classList.add('colab-df-spinner');\n",
              "      try {\n",
              "        const charts = await google.colab.kernel.invokeFunction(\n",
              "            'suggestCharts', [key], {});\n",
              "      } catch (error) {\n",
              "        console.error('Error during call to suggestCharts:', error);\n",
              "      }\n",
              "      quickchartButtonEl.classList.remove('colab-df-spinner');\n",
              "      quickchartButtonEl.classList.add('colab-df-quickchart-complete');\n",
              "    }\n",
              "    (() => {\n",
              "      let quickchartButtonEl =\n",
              "        document.querySelector('#df-0a284150-9f5c-49c8-8111-e60b673c2f0c button');\n",
              "      quickchartButtonEl.style.display =\n",
              "        google.colab.kernel.accessAllowed ? 'block' : 'none';\n",
              "    })();\n",
              "  </script>\n",
              "</div>\n",
              "    </div>\n",
              "  </div>\n"
            ]
          },
          "metadata": {},
          "execution_count": 10
        }
      ]
    },
    {
      "cell_type": "code",
      "source": [
        "nltk.download('punkt')\n",
        "nltk.download('stopwords')\n",
        "stop_words = set(stopwords.words('english'))"
      ],
      "metadata": {
        "colab": {
          "base_uri": "https://localhost:8080/"
        },
        "id": "80hQ9qxpAtXi",
        "outputId": "7a474059-37f7-4648-abe1-4ad71566cb9c"
      },
      "execution_count": null,
      "outputs": [
        {
          "output_type": "stream",
          "name": "stderr",
          "text": [
            "[nltk_data] Downloading package punkt to /root/nltk_data...\n",
            "[nltk_data]   Unzipping tokenizers/punkt.zip.\n",
            "[nltk_data] Downloading package stopwords to /root/nltk_data...\n",
            "[nltk_data]   Unzipping corpora/stopwords.zip.\n"
          ]
        }
      ]
    },
    {
      "cell_type": "markdown",
      "source": [
        "prepare the code to handle text data effectively,tokenizing sentences and removing common, less important words."
      ],
      "metadata": {
        "id": "SRj5D2rtG59r"
      }
    },
    {
      "cell_type": "code",
      "source": [
        "pip install emoji"
      ],
      "metadata": {
        "colab": {
          "base_uri": "https://localhost:8080/"
        },
        "id": "U3RPJU8sAxql",
        "outputId": "07bf2d6d-f9d6-4c21-f020-a0dc93cbeafe"
      },
      "execution_count": null,
      "outputs": [
        {
          "output_type": "stream",
          "name": "stdout",
          "text": [
            "Collecting emoji\n",
            "  Downloading emoji-2.8.0-py2.py3-none-any.whl (358 kB)\n",
            "\u001b[2K     \u001b[90m━━━━━━━━━━━━━━━━━━━━━━━━━━━━━━━━━━━━━━━━\u001b[0m \u001b[32m358.9/358.9 kB\u001b[0m \u001b[31m3.3 MB/s\u001b[0m eta \u001b[36m0:00:00\u001b[0m\n",
            "\u001b[?25hInstalling collected packages: emoji\n",
            "Successfully installed emoji-2.8.0\n"
          ]
        }
      ]
    },
    {
      "cell_type": "markdown",
      "source": [
        "converting emoji codes to actual emojis."
      ],
      "metadata": {
        "id": "dhasrgUHHgTY"
      }
    },
    {
      "cell_type": "code",
      "source": [
        "import emoji\n",
        "\n",
        "def preprocess_text(text):\n",
        "    text = re.sub(r'http\\S+', '', text)  # Remove links\n",
        "    text = ' '.join([word for word in text.split() if not word.startswith('@')])  # Remove mentions (words starting with '@')\n",
        "    text = re.sub(r'\\$\\S+', '', text)  # Remove currency symbols\n",
        "    text = re.sub(r'\\d{10}', '', text)  # Remove contact numbers\n",
        "    text = re.sub(r'\\d{1,2}[-/]\\d{1,2}[-/]\\d{2,4}', '', text)  # Remove dates\n",
        "    text = re.sub(r'\\S+@\\S+', '', text)  # Remove emails\n",
        "    text = emoji.demojize(text) # Remove emojis using the emoji library\n",
        "    tokens = text.split()\n",
        "    tokens = [word for word in tokens if len(word) > 2]# Remove short words (length <= 2)\n",
        "    tokens = [word.lower() for word in tokens if word.isalnum()] # Tokenization, lowercase, and removing stopwords\n",
        "    # tokens = [word for word in tokens if word not in stop_words]\n",
        "\n",
        "    return ' '.join(tokens)"
      ],
      "metadata": {
        "id": "c5Qqugd0A2zp"
      },
      "execution_count": null,
      "outputs": []
    },
    {
      "cell_type": "code",
      "source": [
        "df['processed_content'] = df['Tweet Body '].apply(preprocess_text)"
      ],
      "metadata": {
        "id": "dMWg8vXaA_yf"
      },
      "execution_count": null,
      "outputs": []
    },
    {
      "cell_type": "code",
      "source": [
        "df.head(10)"
      ],
      "metadata": {
        "colab": {
          "base_uri": "https://localhost:8080/",
          "height": 363
        },
        "id": "CoPZDBNvBCeg",
        "outputId": "e2f14b1b-92bb-4420-e9a9-e4c69eb0a334"
      },
      "execution_count": null,
      "outputs": [
        {
          "output_type": "execute_result",
          "data": {
            "text/plain": [
              "                                         Tweet Body  Sentiment   \\\n",
              "0  sorry i didn’t respond for 2 weeks i was focus...    Neutral   \n",
              "1  only i can have an eating disorder, everyone e...   Negative   \n",
              "2  having an eating disorder isn’t an excuse to b...   Negative   \n",
              "3  everybody been telling me i’m getting to be an...    Neutral   \n",
              "4  I am very thin (people think I am anorexic). W...   Negative   \n",
              "5  When did body positivity turn into making fun ...   Negative   \n",
              "6  calling myself Anorexic still feels like such ...    Neutral   \n",
              "7  before i was disordered i bought a dozen of th...    Neutral   \n",
              "8  “Fuck this eating disorder, I can eat whatever...    Neutral   \n",
              "9  i still had a eating disorder here but it was ...    Neutral   \n",
              "\n",
              "                                   processed_content  \n",
              "0  sorry respond for weeks was focused eating dis...  \n",
              "1        only can have eating everyone else deserves  \n",
              "2               having eating disorder excuse stupid  \n",
              "3  everybody been telling getting unhealthy skinn...  \n",
              "4  very thin think when was thought everyone view...  \n",
              "5  when did body positivity turn into making fun ...  \n",
              "6  calling myself anorexic still feels like such ...  \n",
              "7  before was disordered bought dozen these and h...  \n",
              "8                       this eating can eat whatever  \n",
              "9  still had eating disorder here but was not bad...  "
            ],
            "text/html": [
              "\n",
              "  <div id=\"df-0c5d5c19-2c95-4630-927c-aa6d63f73f65\" class=\"colab-df-container\">\n",
              "    <div>\n",
              "<style scoped>\n",
              "    .dataframe tbody tr th:only-of-type {\n",
              "        vertical-align: middle;\n",
              "    }\n",
              "\n",
              "    .dataframe tbody tr th {\n",
              "        vertical-align: top;\n",
              "    }\n",
              "\n",
              "    .dataframe thead th {\n",
              "        text-align: right;\n",
              "    }\n",
              "</style>\n",
              "<table border=\"1\" class=\"dataframe\">\n",
              "  <thead>\n",
              "    <tr style=\"text-align: right;\">\n",
              "      <th></th>\n",
              "      <th>Tweet Body</th>\n",
              "      <th>Sentiment</th>\n",
              "      <th>processed_content</th>\n",
              "    </tr>\n",
              "  </thead>\n",
              "  <tbody>\n",
              "    <tr>\n",
              "      <th>0</th>\n",
              "      <td>sorry i didn’t respond for 2 weeks i was focus...</td>\n",
              "      <td>Neutral</td>\n",
              "      <td>sorry respond for weeks was focused eating dis...</td>\n",
              "    </tr>\n",
              "    <tr>\n",
              "      <th>1</th>\n",
              "      <td>only i can have an eating disorder, everyone e...</td>\n",
              "      <td>Negative</td>\n",
              "      <td>only can have eating everyone else deserves</td>\n",
              "    </tr>\n",
              "    <tr>\n",
              "      <th>2</th>\n",
              "      <td>having an eating disorder isn’t an excuse to b...</td>\n",
              "      <td>Negative</td>\n",
              "      <td>having eating disorder excuse stupid</td>\n",
              "    </tr>\n",
              "    <tr>\n",
              "      <th>3</th>\n",
              "      <td>everybody been telling me i’m getting to be an...</td>\n",
              "      <td>Neutral</td>\n",
              "      <td>everybody been telling getting unhealthy skinn...</td>\n",
              "    </tr>\n",
              "    <tr>\n",
              "      <th>4</th>\n",
              "      <td>I am very thin (people think I am anorexic). W...</td>\n",
              "      <td>Negative</td>\n",
              "      <td>very thin think when was thought everyone view...</td>\n",
              "    </tr>\n",
              "    <tr>\n",
              "      <th>5</th>\n",
              "      <td>When did body positivity turn into making fun ...</td>\n",
              "      <td>Negative</td>\n",
              "      <td>when did body positivity turn into making fun ...</td>\n",
              "    </tr>\n",
              "    <tr>\n",
              "      <th>6</th>\n",
              "      <td>calling myself Anorexic still feels like such ...</td>\n",
              "      <td>Neutral</td>\n",
              "      <td>calling myself anorexic still feels like such ...</td>\n",
              "    </tr>\n",
              "    <tr>\n",
              "      <th>7</th>\n",
              "      <td>before i was disordered i bought a dozen of th...</td>\n",
              "      <td>Neutral</td>\n",
              "      <td>before was disordered bought dozen these and h...</td>\n",
              "    </tr>\n",
              "    <tr>\n",
              "      <th>8</th>\n",
              "      <td>“Fuck this eating disorder, I can eat whatever...</td>\n",
              "      <td>Neutral</td>\n",
              "      <td>this eating can eat whatever</td>\n",
              "    </tr>\n",
              "    <tr>\n",
              "      <th>9</th>\n",
              "      <td>i still had a eating disorder here but it was ...</td>\n",
              "      <td>Neutral</td>\n",
              "      <td>still had eating disorder here but was not bad...</td>\n",
              "    </tr>\n",
              "  </tbody>\n",
              "</table>\n",
              "</div>\n",
              "    <div class=\"colab-df-buttons\">\n",
              "\n",
              "  <div class=\"colab-df-container\">\n",
              "    <button class=\"colab-df-convert\" onclick=\"convertToInteractive('df-0c5d5c19-2c95-4630-927c-aa6d63f73f65')\"\n",
              "            title=\"Convert this dataframe to an interactive table.\"\n",
              "            style=\"display:none;\">\n",
              "\n",
              "  <svg xmlns=\"http://www.w3.org/2000/svg\" height=\"24px\" viewBox=\"0 -960 960 960\">\n",
              "    <path d=\"M120-120v-720h720v720H120Zm60-500h600v-160H180v160Zm220 220h160v-160H400v160Zm0 220h160v-160H400v160ZM180-400h160v-160H180v160Zm440 0h160v-160H620v160ZM180-180h160v-160H180v160Zm440 0h160v-160H620v160Z\"/>\n",
              "  </svg>\n",
              "    </button>\n",
              "\n",
              "  <style>\n",
              "    .colab-df-container {\n",
              "      display:flex;\n",
              "      gap: 12px;\n",
              "    }\n",
              "\n",
              "    .colab-df-convert {\n",
              "      background-color: #E8F0FE;\n",
              "      border: none;\n",
              "      border-radius: 50%;\n",
              "      cursor: pointer;\n",
              "      display: none;\n",
              "      fill: #1967D2;\n",
              "      height: 32px;\n",
              "      padding: 0 0 0 0;\n",
              "      width: 32px;\n",
              "    }\n",
              "\n",
              "    .colab-df-convert:hover {\n",
              "      background-color: #E2EBFA;\n",
              "      box-shadow: 0px 1px 2px rgba(60, 64, 67, 0.3), 0px 1px 3px 1px rgba(60, 64, 67, 0.15);\n",
              "      fill: #174EA6;\n",
              "    }\n",
              "\n",
              "    .colab-df-buttons div {\n",
              "      margin-bottom: 4px;\n",
              "    }\n",
              "\n",
              "    [theme=dark] .colab-df-convert {\n",
              "      background-color: #3B4455;\n",
              "      fill: #D2E3FC;\n",
              "    }\n",
              "\n",
              "    [theme=dark] .colab-df-convert:hover {\n",
              "      background-color: #434B5C;\n",
              "      box-shadow: 0px 1px 3px 1px rgba(0, 0, 0, 0.15);\n",
              "      filter: drop-shadow(0px 1px 2px rgba(0, 0, 0, 0.3));\n",
              "      fill: #FFFFFF;\n",
              "    }\n",
              "  </style>\n",
              "\n",
              "    <script>\n",
              "      const buttonEl =\n",
              "        document.querySelector('#df-0c5d5c19-2c95-4630-927c-aa6d63f73f65 button.colab-df-convert');\n",
              "      buttonEl.style.display =\n",
              "        google.colab.kernel.accessAllowed ? 'block' : 'none';\n",
              "\n",
              "      async function convertToInteractive(key) {\n",
              "        const element = document.querySelector('#df-0c5d5c19-2c95-4630-927c-aa6d63f73f65');\n",
              "        const dataTable =\n",
              "          await google.colab.kernel.invokeFunction('convertToInteractive',\n",
              "                                                    [key], {});\n",
              "        if (!dataTable) return;\n",
              "\n",
              "        const docLinkHtml = 'Like what you see? Visit the ' +\n",
              "          '<a target=\"_blank\" href=https://colab.research.google.com/notebooks/data_table.ipynb>data table notebook</a>'\n",
              "          + ' to learn more about interactive tables.';\n",
              "        element.innerHTML = '';\n",
              "        dataTable['output_type'] = 'display_data';\n",
              "        await google.colab.output.renderOutput(dataTable, element);\n",
              "        const docLink = document.createElement('div');\n",
              "        docLink.innerHTML = docLinkHtml;\n",
              "        element.appendChild(docLink);\n",
              "      }\n",
              "    </script>\n",
              "  </div>\n",
              "\n",
              "\n",
              "<div id=\"df-e3d7010a-5089-47a2-85cd-1ef51bc23a7f\">\n",
              "  <button class=\"colab-df-quickchart\" onclick=\"quickchart('df-e3d7010a-5089-47a2-85cd-1ef51bc23a7f')\"\n",
              "            title=\"Suggest charts.\"\n",
              "            style=\"display:none;\">\n",
              "\n",
              "<svg xmlns=\"http://www.w3.org/2000/svg\" height=\"24px\"viewBox=\"0 0 24 24\"\n",
              "     width=\"24px\">\n",
              "    <g>\n",
              "        <path d=\"M19 3H5c-1.1 0-2 .9-2 2v14c0 1.1.9 2 2 2h14c1.1 0 2-.9 2-2V5c0-1.1-.9-2-2-2zM9 17H7v-7h2v7zm4 0h-2V7h2v10zm4 0h-2v-4h2v4z\"/>\n",
              "    </g>\n",
              "</svg>\n",
              "  </button>\n",
              "\n",
              "<style>\n",
              "  .colab-df-quickchart {\n",
              "      --bg-color: #E8F0FE;\n",
              "      --fill-color: #1967D2;\n",
              "      --hover-bg-color: #E2EBFA;\n",
              "      --hover-fill-color: #174EA6;\n",
              "      --disabled-fill-color: #AAA;\n",
              "      --disabled-bg-color: #DDD;\n",
              "  }\n",
              "\n",
              "  [theme=dark] .colab-df-quickchart {\n",
              "      --bg-color: #3B4455;\n",
              "      --fill-color: #D2E3FC;\n",
              "      --hover-bg-color: #434B5C;\n",
              "      --hover-fill-color: #FFFFFF;\n",
              "      --disabled-bg-color: #3B4455;\n",
              "      --disabled-fill-color: #666;\n",
              "  }\n",
              "\n",
              "  .colab-df-quickchart {\n",
              "    background-color: var(--bg-color);\n",
              "    border: none;\n",
              "    border-radius: 50%;\n",
              "    cursor: pointer;\n",
              "    display: none;\n",
              "    fill: var(--fill-color);\n",
              "    height: 32px;\n",
              "    padding: 0;\n",
              "    width: 32px;\n",
              "  }\n",
              "\n",
              "  .colab-df-quickchart:hover {\n",
              "    background-color: var(--hover-bg-color);\n",
              "    box-shadow: 0 1px 2px rgba(60, 64, 67, 0.3), 0 1px 3px 1px rgba(60, 64, 67, 0.15);\n",
              "    fill: var(--button-hover-fill-color);\n",
              "  }\n",
              "\n",
              "  .colab-df-quickchart-complete:disabled,\n",
              "  .colab-df-quickchart-complete:disabled:hover {\n",
              "    background-color: var(--disabled-bg-color);\n",
              "    fill: var(--disabled-fill-color);\n",
              "    box-shadow: none;\n",
              "  }\n",
              "\n",
              "  .colab-df-spinner {\n",
              "    border: 2px solid var(--fill-color);\n",
              "    border-color: transparent;\n",
              "    border-bottom-color: var(--fill-color);\n",
              "    animation:\n",
              "      spin 1s steps(1) infinite;\n",
              "  }\n",
              "\n",
              "  @keyframes spin {\n",
              "    0% {\n",
              "      border-color: transparent;\n",
              "      border-bottom-color: var(--fill-color);\n",
              "      border-left-color: var(--fill-color);\n",
              "    }\n",
              "    20% {\n",
              "      border-color: transparent;\n",
              "      border-left-color: var(--fill-color);\n",
              "      border-top-color: var(--fill-color);\n",
              "    }\n",
              "    30% {\n",
              "      border-color: transparent;\n",
              "      border-left-color: var(--fill-color);\n",
              "      border-top-color: var(--fill-color);\n",
              "      border-right-color: var(--fill-color);\n",
              "    }\n",
              "    40% {\n",
              "      border-color: transparent;\n",
              "      border-right-color: var(--fill-color);\n",
              "      border-top-color: var(--fill-color);\n",
              "    }\n",
              "    60% {\n",
              "      border-color: transparent;\n",
              "      border-right-color: var(--fill-color);\n",
              "    }\n",
              "    80% {\n",
              "      border-color: transparent;\n",
              "      border-right-color: var(--fill-color);\n",
              "      border-bottom-color: var(--fill-color);\n",
              "    }\n",
              "    90% {\n",
              "      border-color: transparent;\n",
              "      border-bottom-color: var(--fill-color);\n",
              "    }\n",
              "  }\n",
              "</style>\n",
              "\n",
              "  <script>\n",
              "    async function quickchart(key) {\n",
              "      const quickchartButtonEl =\n",
              "        document.querySelector('#' + key + ' button');\n",
              "      quickchartButtonEl.disabled = true;  // To prevent multiple clicks.\n",
              "      quickchartButtonEl.classList.add('colab-df-spinner');\n",
              "      try {\n",
              "        const charts = await google.colab.kernel.invokeFunction(\n",
              "            'suggestCharts', [key], {});\n",
              "      } catch (error) {\n",
              "        console.error('Error during call to suggestCharts:', error);\n",
              "      }\n",
              "      quickchartButtonEl.classList.remove('colab-df-spinner');\n",
              "      quickchartButtonEl.classList.add('colab-df-quickchart-complete');\n",
              "    }\n",
              "    (() => {\n",
              "      let quickchartButtonEl =\n",
              "        document.querySelector('#df-e3d7010a-5089-47a2-85cd-1ef51bc23a7f button');\n",
              "      quickchartButtonEl.style.display =\n",
              "        google.colab.kernel.accessAllowed ? 'block' : 'none';\n",
              "    })();\n",
              "  </script>\n",
              "</div>\n",
              "    </div>\n",
              "  </div>\n"
            ]
          },
          "metadata": {},
          "execution_count": 15
        }
      ]
    },
    {
      "cell_type": "code",
      "source": [
        "print(df['Sentiment '].value_counts())"
      ],
      "metadata": {
        "colab": {
          "base_uri": "https://localhost:8080/"
        },
        "id": "R5rUwNViBGok",
        "outputId": "bd43d779-5a62-4a92-afa7-03c9e4957547"
      },
      "execution_count": null,
      "outputs": [
        {
          "output_type": "stream",
          "name": "stdout",
          "text": [
            "Negative     489\n",
            "Neutral      432\n",
            "Positive      97\n",
            "Neutral       14\n",
            "Negative       6\n",
            "Name: Sentiment , dtype: int64\n"
          ]
        }
      ]
    },
    {
      "cell_type": "code",
      "source": [
        "print(df['Sentiment '].unique())"
      ],
      "metadata": {
        "colab": {
          "base_uri": "https://localhost:8080/"
        },
        "id": "6JV35DpTBMRr",
        "outputId": "ce116c80-54cf-487f-bf7a-ff193ab8d18e"
      },
      "execution_count": null,
      "outputs": [
        {
          "output_type": "stream",
          "name": "stdout",
          "text": [
            "['Neutral' 'Negative' 'Positive' 'Neutral ' 'Negative ']\n"
          ]
        }
      ]
    },
    {
      "cell_type": "code",
      "source": [
        "df = df.replace(to_replace='Neutral ', value='Neutral')\n",
        "df = df.replace(to_replace='Negative ', value='Negative')"
      ],
      "metadata": {
        "id": "pGZm95hYBNT-"
      },
      "execution_count": null,
      "outputs": []
    },
    {
      "cell_type": "code",
      "source": [
        "print(df['Sentiment '].value_counts())"
      ],
      "metadata": {
        "colab": {
          "base_uri": "https://localhost:8080/"
        },
        "id": "zvzlZQULBQ8w",
        "outputId": "6b21fad6-6ffb-4fa2-8fde-d0decb4103e4"
      },
      "execution_count": null,
      "outputs": [
        {
          "output_type": "stream",
          "name": "stdout",
          "text": [
            "Negative    495\n",
            "Neutral     446\n",
            "Positive     97\n",
            "Name: Sentiment , dtype: int64\n"
          ]
        }
      ]
    },
    {
      "cell_type": "code",
      "source": [
        "x = df['Tweet Body ']\n",
        "y = df['Sentiment ']"
      ],
      "metadata": {
        "id": "MUQ44KSTBUmB"
      },
      "execution_count": null,
      "outputs": []
    },
    {
      "cell_type": "code",
      "source": [
        "y.value_counts()"
      ],
      "metadata": {
        "colab": {
          "base_uri": "https://localhost:8080/"
        },
        "id": "WzixO1oyBUyK",
        "outputId": "04221652-3f19-4a91-c547-9eaa19baf7db"
      },
      "execution_count": null,
      "outputs": [
        {
          "output_type": "execute_result",
          "data": {
            "text/plain": [
              "Negative    495\n",
              "Neutral     446\n",
              "Positive     97\n",
              "Name: Sentiment , dtype: int64"
            ]
          },
          "metadata": {},
          "execution_count": 21
        }
      ]
    },
    {
      "cell_type": "code",
      "source": [
        "pip install imbalanced-learn"
      ],
      "metadata": {
        "colab": {
          "base_uri": "https://localhost:8080/"
        },
        "id": "jJNQjKXLBbL6",
        "outputId": "16795fd9-29c8-4fe5-b0df-686959e9cedf"
      },
      "execution_count": null,
      "outputs": [
        {
          "output_type": "stream",
          "name": "stdout",
          "text": [
            "Requirement already satisfied: imbalanced-learn in /usr/local/lib/python3.10/dist-packages (0.10.1)\n",
            "Requirement already satisfied: numpy>=1.17.3 in /usr/local/lib/python3.10/dist-packages (from imbalanced-learn) (1.23.5)\n",
            "Requirement already satisfied: scipy>=1.3.2 in /usr/local/lib/python3.10/dist-packages (from imbalanced-learn) (1.11.3)\n",
            "Requirement already satisfied: scikit-learn>=1.0.2 in /usr/local/lib/python3.10/dist-packages (from imbalanced-learn) (1.2.2)\n",
            "Requirement already satisfied: joblib>=1.1.1 in /usr/local/lib/python3.10/dist-packages (from imbalanced-learn) (1.3.2)\n",
            "Requirement already satisfied: threadpoolctl>=2.0.0 in /usr/local/lib/python3.10/dist-packages (from imbalanced-learn) (3.2.0)\n"
          ]
        }
      ]
    },
    {
      "cell_type": "markdown",
      "source": [
        "library specifically designed to address and deal with imbalanced datasets."
      ],
      "metadata": {
        "id": "CRKcELJwH1SX"
      }
    },
    {
      "cell_type": "code",
      "source": [
        "import pandas as pd\n",
        "from imblearn.over_sampling import SMOTE\n",
        "#oversampling the minority class in an imbalanced dataset.\n",
        "from collections import Counter\n",
        "#count the distribution of class labels in the dataset.\n",
        "from sklearn.feature_extraction.text import TfidfVectorizer\n",
        "#converting text data into numerical features.\n",
        "\n",
        "print(\"Class distribution before SMOTE:\", Counter(y))\n",
        "#prints the distribution of class labels in the original dataset using the Counter function.\n",
        "tfidf_vectorizer = TfidfVectorizer()\n",
        "x_tfidf = tfidf_vectorizer.fit_transform(x)\n",
        "\n",
        "smote = SMOTE(sampling_strategy='auto', random_state=42)\n",
        "#which automatically determines the number of synthetic samples to create.\n",
        "x_resampled, y_resampled = smote.fit_resample(x_tfidf, y)\n",
        "\n",
        "print(\"Class distribution after SMOTE:\", Counter(y_resampled))"
      ],
      "metadata": {
        "colab": {
          "base_uri": "https://localhost:8080/"
        },
        "id": "LmfeitVIBgMn",
        "outputId": "e0f37c4a-ef06-4bd1-8fce-988f73a73494"
      },
      "execution_count": null,
      "outputs": [
        {
          "output_type": "stream",
          "name": "stdout",
          "text": [
            "Class distribution before SMOTE: Counter({'Negative': 495, 'Neutral': 446, 'Positive': 97})\n",
            "Class distribution after SMOTE: Counter({'Neutral': 495, 'Negative': 495, 'Positive': 495})\n"
          ]
        }
      ]
    },
    {
      "cell_type": "markdown",
      "source": [
        " It balances the dataset by generating smote help improve the performance of machine learning models on such tasks."
      ],
      "metadata": {
        "id": "kUPNZZuuIWYr"
      }
    },
    {
      "cell_type": "code",
      "source": [
        "X_train, X_test, y_train, y_test = train_test_split(x_resampled, y_resampled, test_size=0.2, random_state=42)"
      ],
      "metadata": {
        "id": "aSmESKs5BlcB"
      },
      "execution_count": null,
      "outputs": []
    },
    {
      "cell_type": "markdown",
      "source": [
        "Define the SVM classifier"
      ],
      "metadata": {
        "id": "3-G5a1d4BvBn"
      }
    },
    {
      "cell_type": "code",
      "source": [
        "svm_classifier = SVC(random_state=42)\n",
        "\n",
        "# Hyperparameter grid to search\n",
        "param_grid = {\n",
        "    'C': [0.1, 1, 10],\n",
        "    'kernel': ['linear', 'rbf'],\n",
        "    'class_weight':[None, 'balanced']\n",
        "}\n",
        "\n",
        "grid_search = GridSearchCV(estimator=svm_classifier, param_grid=param_grid, cv=3)\n",
        "grid_search.fit(X_train, y_train)\n",
        "#used GridSearchCV to perform a grid search for the best hyperparameters within the specified parameter grid.\n",
        "#3 fold cross validation.\n",
        "\n",
        "# Best hyperparameters from the grid search\n",
        "best_params = grid_search.best_params_\n",
        "print(\"Best Hyperparameters:\", best_params)\n",
        "\n",
        "# Train the final model with the best hyperparameters on the full training dataset\n",
        "final_svm_classifier = SVC(**best_params, random_state=42)\n",
        "final_svm_classifier.fit(X_train, y_train)\n",
        "\n",
        "# Predict sentiment on the testing dataset\n",
        "y_pred = final_svm_classifier.predict(X_test)\n",
        "\n",
        "# Evaluate the final model on the testing dataset\n",
        "report = classification_report(y_test, y_pred)\n",
        "print(\"Classification Report on Testing Data:\")\n",
        "print(report)"
      ],
      "metadata": {
        "colab": {
          "base_uri": "https://localhost:8080/"
        },
        "id": "AOAm-pzSBwKo",
        "outputId": "0fdecc0c-b898-48c2-e5f7-cafea8d69299"
      },
      "execution_count": null,
      "outputs": [
        {
          "output_type": "stream",
          "name": "stdout",
          "text": [
            "Best Hyperparameters: {'C': 10, 'class_weight': None, 'kernel': 'rbf'}\n",
            "Classification Report on Testing Data:\n",
            "              precision    recall  f1-score   support\n",
            "\n",
            "    Negative       0.58      0.66      0.62        82\n",
            "     Neutral       0.70      0.63      0.66       103\n",
            "    Positive       1.00      0.99      1.00       112\n",
            "\n",
            "    accuracy                           0.77       297\n",
            "   macro avg       0.76      0.76      0.76       297\n",
            "weighted avg       0.78      0.77      0.78       297\n",
            "\n"
          ]
        }
      ]
    },
    {
      "cell_type": "markdown",
      "source": [
        "Define the Decision Tree classifier"
      ],
      "metadata": {
        "id": "PlBH0ClmB7ly"
      }
    },
    {
      "cell_type": "code",
      "source": [
        "from sklearn.tree import DecisionTreeClassifier\n",
        "\n",
        "dt_classifier = DecisionTreeClassifier(random_state=42)\n",
        "\n",
        "# Hyperparameter grid to search\n",
        "param_grid_dt = {\n",
        "    'max_depth': [None, 10, 20, 30],\n",
        "    'min_samples_split': [2, 5, 10],\n",
        "    'min_samples_leaf': [1, 2, 4]\n",
        "}\n",
        "\n",
        "# Grid search with cross-validation on the training data\n",
        "grid_search_dt = GridSearchCV(estimator=dt_classifier, param_grid=param_grid_dt, cv=3)\n",
        "grid_search_dt.fit(X_train, y_train)\n",
        "\n",
        "# Best hyperparameters from the grid search\n",
        "best_params_dt = grid_search_dt.best_params_\n",
        "print(\"Best Hyperparameters for Decision Tree:\", best_params_dt)\n",
        "\n",
        "# Train the final Decision Tree model with the best hyperparameters\n",
        "final_dt_classifier = DecisionTreeClassifier(**best_params_dt)\n",
        "final_dt_classifier.fit(X_train, y_train)\n",
        "\n",
        "# Predict classes on the testing dataset\n",
        "y_pred_dt = final_dt_classifier.predict(X_test)\n",
        "\n",
        "# Evaluate the final Decision Tree model on the testing dataset\n",
        "report_dt = classification_report(y_test, y_pred_dt)\n",
        "print(\"Classification Report for Decision Tree on Testing Data:\")\n",
        "print(report_dt)"
      ],
      "metadata": {
        "colab": {
          "base_uri": "https://localhost:8080/"
        },
        "id": "ai37Wxm-B4dX",
        "outputId": "f4d248c9-3e8a-45a5-98fe-49b0cf9c27a7"
      },
      "execution_count": null,
      "outputs": [
        {
          "output_type": "stream",
          "name": "stdout",
          "text": [
            "Best Hyperparameters for Decision Tree: {'max_depth': None, 'min_samples_leaf': 1, 'min_samples_split': 2}\n",
            "Classification Report for Decision Tree on Testing Data:\n",
            "              precision    recall  f1-score   support\n",
            "\n",
            "    Negative       0.43      0.49      0.46        82\n",
            "     Neutral       0.56      0.48      0.51       103\n",
            "    Positive       0.82      0.86      0.84       112\n",
            "\n",
            "    accuracy                           0.62       297\n",
            "   macro avg       0.60      0.61      0.60       297\n",
            "weighted avg       0.62      0.62      0.62       297\n",
            "\n"
          ]
        }
      ]
    },
    {
      "cell_type": "markdown",
      "source": [
        "Define the Random Forest classifier"
      ],
      "metadata": {
        "id": "psaa3KkJCGds"
      }
    },
    {
      "cell_type": "code",
      "source": [
        "from sklearn.ensemble import RandomForestClassifier\n",
        "\n",
        "rf_classifier = RandomForestClassifier(random_state=42)\n",
        "\n",
        "# Hyperparameter grid to search\n",
        "param_grid_rf = {\n",
        "    'n_estimators': [100, 200, 300],\n",
        "    'max_depth': [None, 10, 20],\n",
        "    'min_samples_split': [2, 5],\n",
        "    'min_samples_leaf': [1, 2]\n",
        "}\n",
        "\n",
        "# Grid search with cross-validation on the training data\n",
        "grid_search_rf = GridSearchCV(estimator=rf_classifier, param_grid=param_grid_rf, cv=3)\n",
        "grid_search_rf.fit(X_train, y_train)\n",
        "\n",
        "# Best hyperparameters from the grid search\n",
        "best_params_rf = grid_search_rf.best_params_\n",
        "print(\"Best Hyperparameters for Random Forest:\", best_params_rf)\n",
        "\n",
        "# Train the final Random Forest model with the best hyperparameters\n",
        "final_rf_classifier = RandomForestClassifier(**best_params_rf, random_state=42)\n",
        "final_rf_classifier.fit(X_train, y_train)\n",
        "\n",
        "# Predict classes on the testing dataset\n",
        "y_pred_rf = final_rf_classifier.predict(X_test)\n",
        "\n",
        "# Evaluate the final Random Forest model on the testing dataset\n",
        "report_rf = classification_report(y_test, y_pred_rf)\n",
        "print(\"Classification Report for Random Forest on Testing Data:\")\n",
        "print(report_rf)"
      ],
      "metadata": {
        "colab": {
          "base_uri": "https://localhost:8080/"
        },
        "id": "bQ1VUhZWCLSI",
        "outputId": "7b6faab1-8b70-407c-c877-0069ef5c0429"
      },
      "execution_count": null,
      "outputs": [
        {
          "output_type": "stream",
          "name": "stdout",
          "text": [
            "Best Hyperparameters for Random Forest: {'max_depth': None, 'min_samples_leaf': 1, 'min_samples_split': 5, 'n_estimators': 300}\n",
            "Classification Report for Random Forest on Testing Data:\n",
            "              precision    recall  f1-score   support\n",
            "\n",
            "    Negative       0.53      0.66      0.59        82\n",
            "     Neutral       0.68      0.60      0.64       103\n",
            "    Positive       0.99      0.92      0.95       112\n",
            "\n",
            "    accuracy                           0.74       297\n",
            "   macro avg       0.73      0.73      0.73       297\n",
            "weighted avg       0.76      0.74      0.74       297\n",
            "\n"
          ]
        }
      ]
    },
    {
      "cell_type": "markdown",
      "source": [
        "Define the Multinomial Naive Bayes classifier"
      ],
      "metadata": {
        "id": "cLiKgEHjCSsy"
      }
    },
    {
      "cell_type": "code",
      "source": [
        "from sklearn.naive_bayes import MultinomialNB\n",
        "\n",
        "nb_classifier = MultinomialNB()\n",
        "\n",
        "# Train the Multinomial Naive Bayes model\n",
        "nb_classifier.fit(X_train, y_train)\n",
        "\n",
        "# Predict classes on the testing dataset\n",
        "y_pred_nb = nb_classifier.predict(X_test)\n",
        "\n",
        "# Evaluate the Multinomial Naive Bayes model on the testing dataset\n",
        "report_nb = classification_report(y_test, y_pred_nb)\n",
        "print(\"Classification Report for Multinomial Naive Bayes on Testing Data:\")\n",
        "print(report_nb)"
      ],
      "metadata": {
        "colab": {
          "base_uri": "https://localhost:8080/"
        },
        "id": "BgFyDmqyCT7V",
        "outputId": "e1852c9a-184b-476e-bc16-2bdeaa2ad061"
      },
      "execution_count": null,
      "outputs": [
        {
          "output_type": "stream",
          "name": "stdout",
          "text": [
            "Classification Report for Multinomial Naive Bayes on Testing Data:\n",
            "              precision    recall  f1-score   support\n",
            "\n",
            "    Negative       0.58      0.63      0.60        82\n",
            "     Neutral       0.72      0.50      0.59       103\n",
            "    Positive       0.81      0.98      0.89       112\n",
            "\n",
            "    accuracy                           0.72       297\n",
            "   macro avg       0.70      0.71      0.70       297\n",
            "weighted avg       0.72      0.72      0.71       297\n",
            "\n"
          ]
        }
      ]
    },
    {
      "cell_type": "markdown",
      "source": [
        "Create the ensemble model"
      ],
      "metadata": {
        "id": "oiaELtIoCi5x"
      }
    },
    {
      "cell_type": "code",
      "source": [
        "from sklearn.ensemble import VotingClassifier\n",
        "# from sklearn.ensemble import GradientBoostingClassifier\n",
        "# from xgboost import XGBClassifier\n",
        "\n",
        "svm_classifier = SVC(C=10, kernel='rbf',class_weight = None)\n",
        "nb_classifier = MultinomialNB()\n",
        "rf_classifier = RandomForestClassifier(min_samples_leaf=2, min_samples_split=5, n_estimators=300)\n",
        "\n",
        "# Create the ensemble model using VotingClassifier\n",
        "ensemble_classifier = VotingClassifier(estimators=[\n",
        "    ('svm', svm_classifier),\n",
        "    ('Naive bayes', nb_classifier),\n",
        "    ('random_forest', rf_classifier)\n",
        "], voting='hard')\n",
        "\n",
        "# Train\n",
        "ensemble_classifier.fit(X_train, y_train)\n",
        "\n",
        "# Predict classes on the testing dataset\n",
        "y_pred_ensemble = ensemble_classifier.predict(X_test)\n",
        "\n",
        "# Evaluate on the testing dataset\n",
        "report_ensemble = classification_report(y_test, y_pred_ensemble)\n",
        "print(\"Classification Report for Ensemble Model on Testing Data:\")\n",
        "print(report_ensemble)"
      ],
      "metadata": {
        "colab": {
          "base_uri": "https://localhost:8080/"
        },
        "id": "wcHUsKC9Cmqu",
        "outputId": "fdc5a180-6fb0-476e-ef88-85b244062925"
      },
      "execution_count": null,
      "outputs": [
        {
          "output_type": "stream",
          "name": "stdout",
          "text": [
            "Classification Report for Ensemble Model on Testing Data:\n",
            "              precision    recall  f1-score   support\n",
            "\n",
            "    Negative       0.56      0.70      0.62        82\n",
            "     Neutral       0.71      0.60      0.65       103\n",
            "    Positive       1.00      0.97      0.99       112\n",
            "\n",
            "    accuracy                           0.77       297\n",
            "   macro avg       0.76      0.76      0.75       297\n",
            "weighted avg       0.78      0.77      0.77       297\n",
            "\n"
          ]
        }
      ]
    },
    {
      "cell_type": "markdown",
      "source": [
        "Class 0: Negative sentiment\n",
        "\n",
        "Class 1: Neutral sentiment\n",
        "\n",
        "Class 2: Positive sentiment\n",
        "\n",
        "\n"
      ],
      "metadata": {
        "id": "9POmGGTFCyAe"
      }
    },
    {
      "cell_type": "code",
      "source": [
        "from sklearn.metrics import confusion_matrix\n",
        "import matplotlib.pyplot as plt\n",
        "# Import the Matplotlib library for data visualization.\n",
        "import seaborn as sns\n",
        "#Import the Seaborn library used to create visually appealing statistical graphics.\n",
        "\n",
        "conf_matrix_ensemble = confusion_matrix(y_test, y_pred_ensemble)\n",
        "\n",
        "plt.figure(figsize=(8, 6))\n",
        "sns.heatmap(conf_matrix_ensemble, annot=True, fmt='d', cmap='Blues', cbar=False,\n",
        "            annot_kws={\"size\": 12}, linewidths=0.5)\n",
        "plt.title(\"Ensemble Model Confusion Matrix\")\n",
        "plt.xlabel(\"Predicted Label\")\n",
        "plt.ylabel(\"True Label\")\n",
        "plt.show()"
      ],
      "metadata": {
        "colab": {
          "base_uri": "https://localhost:8080/",
          "height": 564
        },
        "id": "e-QOFn2IC2R4",
        "outputId": "709d4a6c-b718-4815-8100-098fd5c9fdf2"
      },
      "execution_count": null,
      "outputs": [
        {
          "output_type": "display_data",
          "data": {
            "text/plain": [
              "<Figure size 800x600 with 1 Axes>"
            ],
            "image/png": "[encoded data removed]"
          },
          "metadata": {}
        }
      ]
    },
    {
      "cell_type": "markdown",
      "source": [
        "True, Positive = model correctly predicted the class [55,62,109]\n",
        "\n",
        "False, Positive = model made a type I error by incorrectly classifying something as positive or neutral [41,0]\n",
        "\n",
        "False, Negative = model failed to recognize a positive or neutral sentiment [27,0,3,0"
      ],
      "metadata": {
        "id": "dhR9M1sFDCAX"
      }
    },
    {
      "cell_type": "code",
      "source": [
        "pip install joblib"
      ],
      "metadata": {
        "colab": {
          "base_uri": "https://localhost:8080/"
        },
        "id": "aPSEdkMLDDIg",
        "outputId": "70479d58-ba72-4316-f19a-43a09ed05319"
      },
      "execution_count": null,
      "outputs": [
        {
          "output_type": "stream",
          "name": "stdout",
          "text": [
            "Requirement already satisfied: joblib in /usr/local/lib/python3.10/dist-packages (1.3.2)\n"
          ]
        }
      ]
    },
    {
      "cell_type": "markdown",
      "source": [
        "useful library for working with large data and complex piplines."
      ],
      "metadata": {
        "id": "Bh4RP2FKOM21"
      }
    },
    {
      "cell_type": "code",
      "source": [
        "import joblib\n",
        "\n",
        "joblib.dump(ensemble_classifier, 'ensemble_model.joblib')"
      ],
      "metadata": {
        "colab": {
          "base_uri": "https://localhost:8080/"
        },
        "id": "aGOKYJzYDJ4X",
        "outputId": "8fb61eab-1938-4091-fd2d-dbb0e806c5c9"
      },
      "execution_count": null,
      "outputs": [
        {
          "output_type": "execute_result",
          "data": {
            "text/plain": [
              "['ensemble_model.joblib']"
            ]
          },
          "metadata": {},
          "execution_count": 32
        }
      ]
    },
    {
      "cell_type": "markdown",
      "source": [
        "the way of can store the model for future use without retraining it."
      ],
      "metadata": {
        "id": "Jk-7EpRVPaYZ"
      }
    },
    {
      "cell_type": "code",
      "source": [
        "df.to_csv('processed_datasetnew.csv')"
      ],
      "metadata": {
        "id": "ZtvqPwRHDNqE"
      },
      "execution_count": null,
      "outputs": []
    },
    {
      "cell_type": "code",
      "source": [
        "joblib.dump(tfidf_vectorizer, 'tfidf_vectorizer.joblib')"
      ],
      "metadata": {
        "colab": {
          "base_uri": "https://localhost:8080/"
        },
        "id": "T0sdSMhADWaT",
        "outputId": "af561b54-d022-4bcc-e380-8351cc1ea0cb"
      },
      "execution_count": null,
      "outputs": [
        {
          "output_type": "execute_result",
          "data": {
            "text/plain": [
              "['tfidf_vectorizer.joblib']"
            ]
          },
          "metadata": {},
          "execution_count": 34
        }
      ]
    },
    {
      "cell_type": "markdown",
      "source": [
        "later use in text processing or nlp tasks."
      ],
      "metadata": {
        "id": "F7o229lNQBpS"
      }
    }
  ]
}